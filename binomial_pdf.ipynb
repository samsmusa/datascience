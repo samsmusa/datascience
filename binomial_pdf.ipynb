{
 "cells": [
  {
   "cell_type": "markdown",
   "metadata": {},
   "source": [
    "# Probability distribution"
   ]
  },
  {
   "cell_type": "markdown",
   "metadata": {},
   "source": [
    "## Binomial Distribution\n",
    "\n",
    "### [Mean of Binomial Distribution](https://sciencing.com/law-probability-8657085.html)\n",
    "Suppose you have three green marbles and one red marble in a bowl. In your experiment, you select a marble and record \"success\" if it's red or \"failure\" if it's green, and then you put the marble back and select again. The probability of success - - selecting a red marble -- is one out of four, or 1/4, which is 0.25. If you conduct the experiment 100 times, you would expect to draw a red marble one quarter of the time, or 25 times in total. This is the mean of the binomial distribution, which is defined as the number of trials, 100, times the probability of success for each trial, 0.25, or 100 times 0.25, which is equal to 25.\n",
    "\n",
    "### Variance of Binomial Distribution\n",
    "When you select 100 marbles, you won't always choose exactly 25 red marbles; your actual results will vary. If the probability of success, \"p,\" is 1/4, or 0.25, that means the probability of failure is 3/4, or 0.75, which is \"(1 - p).\" The variance is defined as the number of trials times \"p\" times \"(1-p).\" For the marble experiment, the variance is 100 times 0.25 times 0.75, or 18.75.\n",
    "\n",
    "### Understanding Variance\n",
    "Because the variance is in square units, it's not as intuitive as the mean. However, if you take the square root of the variance, called the standard deviation, it tells you by how much you can expect your actual results to vary, on average. The square root of 18.75 is 4.33, which means you can expect the number of red marbles to be between 21 (25 minus 4) and 29 (25 plus 4) for each 100 selections."
   ]
  },
  {
   "cell_type": "markdown",
   "metadata": {},
   "source": [
    "### for example\n",
    "let green mable as 'G' and red marble as 'R'. and probability of getting Red bol is 25%. and we trial this experiment 100 times"
   ]
  },
  {
   "cell_type": "code",
   "execution_count": 1,
   "metadata": {},
   "outputs": [
    {
     "name": "stdout",
     "output_type": "stream",
     "text": [
      "-------------------------------------------------------------\n",
      "In 20 days we get 5.0 days for 25.0% desire output\n",
      "-------------------------------------------------------------\n",
      "your average number of successes is 5.0 in 20 trials if you repeat the trials many times.\n",
      "-------------------------------------------------------------\n"
     ]
    },
    {
     "data": {
      "image/png": "[encoded data removed]",
      "text/plain": [
       "<Figure size 432x288 with 1 Axes>"
      ]
     },
     "metadata": {
      "needs_background": "light"
     },
     "output_type": "display_data"
    }
   ],
   "source": [
    "from binomial import Binomial\n",
    "\n",
    "[a,c,e] = Binomial('RG', checkParam=\"R\",probability=0.25,repeat=20)"
   ]
  },
  {
   "cell_type": "code",
   "execution_count": 1,
   "metadata": {},
   "outputs": [],
   "source": [
    "from scipy.stats import binom\n",
    "import numpy as np\n",
    "import pandas as pd\n",
    "from matplotlib import pyplot as plt "
   ]
  },
  {
   "cell_type": "code",
   "execution_count": 5,
   "metadata": {},
   "outputs": [],
   "source": [
    "n, p = 10, 0.4\n",
    "mean, var, skew, kurt = binom.stats(n, p, moments='mvsk')"
   ]
  },
  {
   "cell_type": "markdown",
   "metadata": {},
   "source": [
    "### percent-point-function [ppf](./ppf.ipynb)  "
   ]
  },
  {
   "cell_type": "code",
   "execution_count": 26,
   "metadata": {},
   "outputs": [
    {
     "data": {
      "image/png": "[encoded data removed]",
      "text/plain": [
       "<Figure size 432x288 with 1 Axes>"
      ]
     },
     "metadata": {
      "needs_background": "light"
     },
     "output_type": "display_data"
    }
   ],
   "source": [
    "fig, ax = plt.subplots(1, 1)\n",
    "\n",
    "n, p = 10, 0.25\n",
    "x = np.arange(binom.ppf(0.00001, n, p),\n",
    "              binom.ppf(1, n, p))\n",
    "ax.plot(x, binom.pmf(x, n, p), 'bo', ms=8, label='binom pmf')\n",
    "ax.vlines(x, 0, binom.pmf(x, n, p), colors='b', lw=5, alpha=0.5)\n",
    "rv = binom(n, p)\n",
    "ax.vlines(x, 0, rv.pmf(x), colors='k', linestyles='-', lw=1,\n",
    "        label='frozen pmf')\n",
    "ax.legend(loc='best', frameon=False)\n",
    "plt.show()"
   ]
  },
  {
   "cell_type": "markdown",
   "metadata": {},
   "source": [
    "### Fitting of binomial distribution from observed data\n",
    "**Example-11.3.5:** Twelve dice were thrown 2,630 times and each time the number of dice which had 5 or 6 on the uppermost face were recorded. The results are shown in the following table:\n",
    "\n",
    "| NUMBER OF DICE WITH 5 OR 6 UPPER MOS:X | 0 | 1 | 2 | 3 | 4 | 5 | 6 | 7 | 8 | 9 | 10| 11 OR 12 |\n",
    "|----------------------------------------|---|---|---|---|---|---|---|---|---|---|---|----------|\n",
    "| **FREQUENCY:Y**                         |18 |115|326|548|611|519|307|133|40 | 11| 2 |    0     |\n",
    "\n",
    "Graduate the observed distribution \n",
    "(a) with a binomial distribution for which p is unknown\n",
    "(b) with a binomial distribution for which $p = \\frac{1}{3}$\n",
    "\n",
    "\n"
   ]
  },
  {
   "cell_type": "code",
   "execution_count": 19,
   "metadata": {},
   "outputs": [
    {
     "data": {
      "text/plain": [
       "4.0539923954372625"
      ]
     },
     "execution_count": 19,
     "metadata": {},
     "output_type": "execute_result"
    }
   ],
   "source": [
    "x  = np.linspace(0,11,12)\n",
    "y = np.array([18,115,326,548,611,519,307,133,40,11,2,0])\n",
    "xBar = sum(np.multiply(x,y))/sum(y)"
   ]
  },
  {
   "cell_type": "markdown",
   "metadata": {},
   "source": [
    "Answer(a):\n",
    "Here tofit a binomial distribution, p has to be estimated from the observed distribution. The mean of the frequency distribution is \n",
    "$$ \\bar{x}=\\frac{\\sum fx}{\\sum f} = \\frac{10,662}{2630} = 4.05399 $$\n"
   ]
  },
  {
   "cell_type": "code",
   "execution_count": 21,
   "metadata": {},
   "outputs": [],
   "source": [
    "probability = xBar/len(y)\n",
    "probabilityr = 1- probability"
   ]
  },
  {
   "cell_type": "markdown",
   "metadata": {},
   "source": [
    "so the extimate of p is $\\hat{p} = \\frac{4.05399}{12} = 0.33783$ and $\\hat{q} = 0.66217$\n",
    "The probability f(x) are calculated by using the recursion relation. Thus,\n",
    "$$f(x) = [\\frac{n-x+1}{x} \\frac{\\hat{p}}{\\hat{q}}] f(x-1)       for x=1,2,...,12$$\n",
    "\n"
   ]
  },
  {
   "cell_type": "code",
   "execution_count": 36,
   "metadata": {},
   "outputs": [],
   "source": [
    "def recursion(x, n, p, q):\n",
    "    if x == 0:\n",
    "        return 0.0071061\n",
    "    else:\n",
    "       return ((n-x+1)/x)*(p/q) * recursion(x-1,n,p,q)"
   ]
  },
  {
   "cell_type": "markdown",
   "metadata": {},
   "source": [
    "here $f(0) = \\hat{q}^{12}$\n",
    "or, $log(f(0)) = 12 log(0.66217)$$\n",
    "\n",
    "=3.8516340 = log(0.0071061) <br>\n",
    "Hence, $f(0) = 0.0071061$, <br>\n",
    "Also, $ \\frac{\\hat{p}}{\\hat{q}} = 0.51019$\n",
    "\n",
    "The subsewuent calculations are shown in the table,\n",
    "\n",
    "| x         | $\\frac{n-x+1}{x}.\\frac{\\hat{p}}{\\hat{q}}$ | f(x)      | Expected frequency    | Observed frequency |\n",
    "|-----------|-------------------------------------------|-----------|-----------------------|--------------------|\n",
    "| 0         | --                                        | 0.0071061 | 0.71061*2630=18.69=19 | 18                 |\n",
    "| 1         | 6.1228                                    | 0.0435    | 114.42=114            | 115                |\n",
    "| 2         | 2.806                                     | 0.1220782 | 321.07=321            | 326                |\n",
    "| 3         | 1.70063                                   | 0.2076098 | 546.01=546            | 548                |\n",
    "| 4         | 1.14793                                   | 0.2383215 | 626.79=627            | 611                |\n",
    "| 5         | 0.81630                                   | 0.1945418 | 511.64=512            | 519                |\n",
    "| 6         | 0.59522                                   | 0.1157952 | 304.54=305            | 307                |\n",
    "| 7         | 0.43730                                   | 0.0506372 | 133.18=133            | 133                |\n",
    "| 8         | 0.31887                                   | 0.0161467 | 42.47=42              | 40                 |\n",
    "| 9         | 0.22675                                   | 0.0036613 | 9.63=10               | 11                 |\n",
    "| 10        | 0.15306                                   | 0.0005604 | 1.47=1                | 2                  |\n",
    "| 11 and 12 | ----                                      | 0.0000363 | 0.09=0                | 0                  |\n",
    "| total     |                                           | 1.000000  | 2630                  | 2630               |\n",
    "\n",
    "\n",
    "**A comparison of the last two columns of the table indicates that the fit has been quit satisfactory**"
   ]
  },
  {
   "cell_type": "code",
   "execution_count": 51,
   "metadata": {},
   "outputs": [
    {
     "data": {
      "text/html": [
       "<div>\n",
       "<style scoped>\n",
       "    .dataframe tbody tr th:only-of-type {\n",
       "        vertical-align: middle;\n",
       "    }\n",
       "\n",
       "    .dataframe tbody tr th {\n",
       "        vertical-align: top;\n",
       "    }\n",
       "\n",
       "    .dataframe thead th {\n",
       "        text-align: right;\n",
       "    }\n",
       "</style>\n",
       "<table border=\"1\" class=\"dataframe\">\n",
       "  <thead>\n",
       "    <tr style=\"text-align: right;\">\n",
       "      <th></th>\n",
       "      <th>x</th>\n",
       "      <th>f_of_x</th>\n",
       "      <th>Expected_frequency</th>\n",
       "      <th>observe_frequency</th>\n",
       "    </tr>\n",
       "  </thead>\n",
       "  <tbody>\n",
       "    <tr>\n",
       "      <th>0</th>\n",
       "      <td>0.0</td>\n",
       "      <td>0.007106</td>\n",
       "      <td>19.0</td>\n",
       "      <td>18</td>\n",
       "    </tr>\n",
       "    <tr>\n",
       "      <th>1</th>\n",
       "      <td>1.0</td>\n",
       "      <td>0.043506</td>\n",
       "      <td>114.0</td>\n",
       "      <td>115</td>\n",
       "    </tr>\n",
       "    <tr>\n",
       "      <th>2</th>\n",
       "      <td>2.0</td>\n",
       "      <td>0.122080</td>\n",
       "      <td>321.0</td>\n",
       "      <td>326</td>\n",
       "    </tr>\n",
       "    <tr>\n",
       "      <th>3</th>\n",
       "      <td>3.0</td>\n",
       "      <td>0.207614</td>\n",
       "      <td>546.0</td>\n",
       "      <td>548</td>\n",
       "    </tr>\n",
       "    <tr>\n",
       "      <th>4</th>\n",
       "      <td>4.0</td>\n",
       "      <td>0.238326</td>\n",
       "      <td>627.0</td>\n",
       "      <td>611</td>\n",
       "    </tr>\n",
       "    <tr>\n",
       "      <th>5</th>\n",
       "      <td>5.0</td>\n",
       "      <td>0.194548</td>\n",
       "      <td>512.0</td>\n",
       "      <td>519</td>\n",
       "    </tr>\n",
       "    <tr>\n",
       "      <th>6</th>\n",
       "      <td>6.0</td>\n",
       "      <td>0.115800</td>\n",
       "      <td>305.0</td>\n",
       "      <td>307</td>\n",
       "    </tr>\n",
       "    <tr>\n",
       "      <th>7</th>\n",
       "      <td>7.0</td>\n",
       "      <td>0.050640</td>\n",
       "      <td>133.0</td>\n",
       "      <td>133</td>\n",
       "    </tr>\n",
       "    <tr>\n",
       "      <th>8</th>\n",
       "      <td>8.0</td>\n",
       "      <td>0.016148</td>\n",
       "      <td>42.0</td>\n",
       "      <td>40</td>\n",
       "    </tr>\n",
       "    <tr>\n",
       "      <th>9</th>\n",
       "      <td>9.0</td>\n",
       "      <td>0.003662</td>\n",
       "      <td>10.0</td>\n",
       "      <td>11</td>\n",
       "    </tr>\n",
       "    <tr>\n",
       "      <th>10</th>\n",
       "      <td>10.0</td>\n",
       "      <td>0.000560</td>\n",
       "      <td>1.0</td>\n",
       "      <td>2</td>\n",
       "    </tr>\n",
       "    <tr>\n",
       "      <th>11</th>\n",
       "      <td>11.0</td>\n",
       "      <td>0.000052</td>\n",
       "      <td>0.0</td>\n",
       "      <td>0</td>\n",
       "    </tr>\n",
       "  </tbody>\n",
       "</table>\n",
       "</div>"
      ],
      "text/plain": [
       "       x    f_of_x  Expected_frequency  observe_frequency\n",
       "0    0.0  0.007106                19.0                 18\n",
       "1    1.0  0.043506               114.0                115\n",
       "2    2.0  0.122080               321.0                326\n",
       "3    3.0  0.207614               546.0                548\n",
       "4    4.0  0.238326               627.0                611\n",
       "5    5.0  0.194548               512.0                519\n",
       "6    6.0  0.115800               305.0                307\n",
       "7    7.0  0.050640               133.0                133\n",
       "8    8.0  0.016148                42.0                 40\n",
       "9    9.0  0.003662                10.0                 11\n",
       "10  10.0  0.000560                 1.0                  2\n",
       "11  11.0  0.000052                 0.0                  0"
      ]
     },
     "execution_count": 51,
     "metadata": {},
     "output_type": "execute_result"
    }
   ],
   "source": [
    "f_x = [0.0071061]\n",
    "for i in x[1:]:\n",
    "    f_x.append(recursion(i,12,probability,probabilityr))\n",
    "import math\n",
    "exp_freq = np.around(np.multiply(f_x,2630),0)\n",
    "df = pd.DataFrame({\n",
    "    'x':x,\n",
    "    'f_of_x':f_x,\n",
    "    'Expected_frequency':exp_freq,\n",
    "    'observe_frequency':y\n",
    "})\n",
    "df\n"
   ]
  },
  {
   "cell_type": "code",
   "execution_count": 21,
   "metadata": {},
   "outputs": [
    {
     "data": {
      "image/png": "[encoded data removed]",
      "text/plain": [
       "<Figure size 432x288 with 1 Axes>"
      ]
     },
     "metadata": {
      "needs_background": "light"
     },
     "output_type": "display_data"
    }
   ],
   "source": [
    "fig, ax = plt.subplots(1, 1)\n",
    "\n",
    "n, p = 6000, 1/6\n",
    "x = np.arange(980,1030)\n",
    "ax.plot(x, binom.pmf(x, n, p), 'bo', ms=8, label='binom pmf')\n",
    "ax.vlines(x, 0, binom.pmf(x, n, p), colors='b', lw=5, alpha=0.5)\n",
    "rv = binom(n, p)\n",
    "ax.vlines(x, 0, rv.pmf(x), colors='k', linestyles='-', lw=1,\n",
    "        label='frozen pmf')\n",
    "ax.legend(loc='best', frameon=False)\n",
    "plt.show()"
   ]
  },
  {
   "cell_type": "code",
   "execution_count": 26,
   "metadata": {},
   "outputs": [
    {
     "data": {
      "text/plain": [
       "0.607152654837941"
      ]
     },
     "execution_count": 26,
     "metadata": {},
     "output_type": "execute_result"
    },
    {
     "data": {
      "image/png": "[encoded data removed]",
      "text/plain": [
       "<Figure size 432x288 with 1 Axes>"
      ]
     },
     "metadata": {
      "needs_background": "light"
     },
     "output_type": "display_data"
    }
   ],
   "source": [
    "plt.plot(x, binom.cdf(x, n, p), 'bo', ms=8, label='binom pmf')\n",
    "sum(binom.pmf(x,n,p))"
   ]
  },
  {
   "cell_type": "code",
   "execution_count": 16,
   "metadata": {},
   "outputs": [
    {
     "data": {
      "text/plain": [
       "array([1, 2, 3, 4, 5, 6, 7, 8, 9])"
      ]
     },
     "execution_count": 16,
     "metadata": {},
     "output_type": "execute_result"
    }
   ],
   "source": [
    "np.arange(1,10)"
   ]
  }
 ],
 "metadata": {
  "interpreter": {
   "hash": "63fd5069d213b44bf678585dea6b12cceca9941eaf7f819626cde1f2670de90d"
  },
  "kernelspec": {
   "display_name": "Python 3.9.5 64-bit",
   "language": "python",
   "name": "python3"
  },
  "language_info": {
   "codemirror_mode": {
    "name": "ipython",
    "version": 3
   },
   "file_extension": ".py",
   "mimetype": "text/x-python",
   "name": "python",
   "nbconvert_exporter": "python",
   "pygments_lexer": "ipython3",
   "version": "3.9.5"
  },
  "orig_nbformat": 4
 },
 "nbformat": 4,
 "nbformat_minor": 2
}
