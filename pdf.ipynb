{
 "cells": [
  {
   "cell_type": "code",
   "execution_count": 2,
   "metadata": {},
   "outputs": [],
   "source": [
    "gender = ['b','g']"
   ]
  },
  {
   "cell_type": "code",
   "execution_count": 54,
   "metadata": {},
   "outputs": [
    {
     "name": "stdout",
     "output_type": "stream",
     "text": [
      "BBBB\n",
      "BBBG\n",
      "BBGB\n",
      "BBGG\n",
      "BGBB\n",
      "BGBG\n",
      "BGGB\n",
      "BGGG\n",
      "GBBB\n",
      "GBBG\n",
      "GBGB\n",
      "GBGG\n",
      "GGBB\n",
      "GGBG\n",
      "GGGB\n",
      "GGGG\n"
     ]
    }
   ],
   "source": [
    "from itertools import product\n",
    "\n",
    "\n",
    "gender = product('BG', repeat=4)\n",
    "\n",
    "for i in list(gender):\n",
    "    print(''.join(i))"
   ]
  },
  {
   "cell_type": "code",
   "execution_count": 60,
   "metadata": {},
   "outputs": [],
   "source": [
    "import math\n",
    "\n",
    "gendernuum = product([0.4,0.6], repeat=4)\n",
    "genderNumList = []\n",
    "for i in list(gendernuum):\n",
    "    genderNumList.append(math.prod(i))"
   ]
  },
  {
   "cell_type": "code",
   "execution_count": 74,
   "metadata": {},
   "outputs": [
    {
     "data": {
      "text/plain": [
       "{1: 4, 2: 3, 4: 5}"
      ]
     },
     "execution_count": 74,
     "metadata": {},
     "output_type": "execute_result"
    }
   ],
   "source": [
    "df = {\n",
    "    1:1,\n",
    "    2:3,\n",
    "    4:5\n",
    "}\n",
    "\n",
    "df[1] += 3\n",
    "df"
   ]
  },
  {
   "cell_type": "code",
   "execution_count": 98,
   "metadata": {},
   "outputs": [],
   "source": [
    "\n",
    "ge={}\n"
   ]
  },
  {
   "cell_type": "code",
   "execution_count": 99,
   "metadata": {},
   "outputs": [
    {
     "data": {
      "text/plain": [
       "{}"
      ]
     },
     "execution_count": 99,
     "metadata": {},
     "output_type": "execute_result"
    }
   ],
   "source": [
    "ge"
   ]
  },
  {
   "cell_type": "code",
   "execution_count": 100,
   "metadata": {},
   "outputs": [],
   "source": [
    "for i,j in enumerate(genderNumList):\n",
    "    try:\n",
    "        if(ge[str(round(j,4))]):\n",
    "            ge[str(round(j,4))] += round(j,4)\n",
    "    except:\n",
    "        ge.update(\n",
    "            {\n",
    "                str(round(j,4)):round(j,4)\n",
    "            }\n",
    "        )\n",
    "            "
   ]
  },
  {
   "cell_type": "code",
   "execution_count": 101,
   "metadata": {},
   "outputs": [
    {
     "data": {
      "text/plain": [
       "{'0.0256': 0.0256,\n",
       " '0.0384': 0.1536,\n",
       " '0.0576': 0.34559999999999996,\n",
       " '0.0864': 0.3456,\n",
       " '0.1296': 0.1296}"
      ]
     },
     "execution_count": 101,
     "metadata": {},
     "output_type": "execute_result"
    }
   ],
   "source": [
    "ge"
   ]
  },
  {
   "cell_type": "code",
   "execution_count": 2,
   "metadata": {},
   "outputs": [
    {
     "data": {
      "image/png": "[encoded data removed]",
      "text/plain": [
       "<Figure size 432x288 with 1 Axes>"
      ]
     },
     "metadata": {
      "needs_background": "light"
     },
     "output_type": "display_data"
    },
    {
     "data": {
      "text/plain": [
       "['BBBB',\n",
       " 'BBBG',\n",
       " 'BBGB',\n",
       " 'BBGG',\n",
       " 'BGBB',\n",
       " 'BGBG',\n",
       " 'BGGB',\n",
       " 'BGGG',\n",
       " 'GBBB',\n",
       " 'GBBG',\n",
       " 'GBGB',\n",
       " 'GBGG',\n",
       " 'GGBB',\n",
       " 'GGBG',\n",
       " 'GGGB',\n",
       " 'GGGG']"
      ]
     },
     "execution_count": 2,
     "metadata": {},
     "output_type": "execute_result"
    }
   ],
   "source": [
    "from binomial import Binomial\n",
    "\n",
    "[a,c] = Binomial('BG', checkParam=\"B\",probability=0.4,repeat=4)\n",
    "a"
   ]
  },
  {
   "cell_type": "code",
   "execution_count": 3,
   "metadata": {},
   "outputs": [
    {
     "data": {
      "text/plain": [
       "<BarContainer object of 21 artists>"
      ]
     },
     "execution_count": 3,
     "metadata": {},
     "output_type": "execute_result"
    },
    {
     "data": {
      "image/png": "[encoded data removed]",
      "text/plain": [
       "<Figure size 432x288 with 1 Axes>"
      ]
     },
     "metadata": {
      "needs_background": "light"
     },
     "output_type": "display_data"
    }
   ],
   "source": [
    "from matplotlib import pyplot as plt \n",
    "\n",
    "plt.bar(c.keys(),c.values())"
   ]
  },
  {
   "cell_type": "code",
   "execution_count": 11,
   "metadata": {},
   "outputs": [
    {
     "data": {
      "text/plain": [
       "[0.0001,\n",
       " 0.0020000000000000005,\n",
       " 0.008999999999999998,\n",
       " 0.04799999999999993,\n",
       " 0.10500000000000008,\n",
       " 0.20159999999999922,\n",
       " 0.252000000000001,\n",
       " 0.21599999999999972,\n",
       " 0.12149999999999989,\n",
       " 0.04000000000000001,\n",
       " 0.006]"
      ]
     },
     "execution_count": 11,
     "metadata": {},
     "output_type": "execute_result"
    }
   ],
   "source": [
    "list(c.values())"
   ]
  },
  {
   "cell_type": "code",
   "execution_count": 48,
   "metadata": {},
   "outputs": [
    {
     "name": "stdout",
     "output_type": "stream",
     "text": [
      "All permutations with repetition of ABC are:\n",
      "['', '', '', '']\n",
      "AAA\n",
      "AAB\n",
      "AAC\n"
     ]
    },
    {
     "ename": "IndexError",
     "evalue": "list index out of range",
     "output_type": "error",
     "traceback": [
      "\u001b[1;31m---------------------------------------------------------------------------\u001b[0m",
      "\u001b[1;31mIndexError\u001b[0m                                Traceback (most recent call last)",
      "Input \u001b[1;32mIn [48]\u001b[0m, in \u001b[0;36m<cell line: 47>\u001b[1;34m()\u001b[0m\n\u001b[0;32m     45\u001b[0m string \u001b[39m=\u001b[39m \u001b[39m\"\u001b[39m\u001b[39mABC\u001b[39m\u001b[39m\"\u001b[39m\n\u001b[0;32m     46\u001b[0m \u001b[39mprint\u001b[39m (\u001b[39m\"\u001b[39m\u001b[39mAll permutations with repetition of \u001b[39m\u001b[39m\"\u001b[39m \u001b[39m+\u001b[39m string \u001b[39m+\u001b[39m \u001b[39m\"\u001b[39m\u001b[39m are:\u001b[39m\u001b[39m\"\u001b[39m)\n\u001b[1;32m---> 47\u001b[0m allLexicographic(string)\n",
      "Input \u001b[1;32mIn [48]\u001b[0m, in \u001b[0;36mallLexicographic\u001b[1;34m(string)\u001b[0m\n\u001b[0;32m     39\u001b[0m string \u001b[39m=\u001b[39m \u001b[39msorted\u001b[39m(string)\n\u001b[0;32m     41\u001b[0m \u001b[39m# Now print all permutations\u001b[39;00m\n\u001b[1;32m---> 42\u001b[0m allLexicographicRecur(string, data, length\u001b[39m-\u001b[39;49m\u001b[39m1\u001b[39;49m, \u001b[39m0\u001b[39;49m)\n",
      "Input \u001b[1;32mIn [48]\u001b[0m, in \u001b[0;36mallLexicographicRecur\u001b[1;34m(string, data, last, index)\u001b[0m\n\u001b[0;32m     22\u001b[0m     \u001b[39mprint\u001b[39m (toString(data))\n\u001b[0;32m     23\u001b[0m \u001b[39melse\u001b[39;00m:\n\u001b[1;32m---> 24\u001b[0m     allLexicographicRecur(string, data, last, index\u001b[39m+\u001b[39;49m\u001b[39m1\u001b[39;49m)\n",
      "Input \u001b[1;32mIn [48]\u001b[0m, in \u001b[0;36mallLexicographicRecur\u001b[1;34m(string, data, last, index)\u001b[0m\n\u001b[0;32m     22\u001b[0m     \u001b[39mprint\u001b[39m (toString(data))\n\u001b[0;32m     23\u001b[0m \u001b[39melse\u001b[39;00m:\n\u001b[1;32m---> 24\u001b[0m     allLexicographicRecur(string, data, last, index\u001b[39m+\u001b[39;49m\u001b[39m1\u001b[39;49m)\n",
      "Input \u001b[1;32mIn [48]\u001b[0m, in \u001b[0;36mallLexicographicRecur\u001b[1;34m(string, data, last, index)\u001b[0m\n\u001b[0;32m     10\u001b[0m \u001b[39m# One by one fix all characters at the given index and\u001b[39;00m\n\u001b[0;32m     11\u001b[0m \u001b[39m# recur for the subsequent indexes\u001b[39;00m\n\u001b[0;32m     12\u001b[0m \u001b[39mfor\u001b[39;00m i \u001b[39min\u001b[39;00m \u001b[39mrange\u001b[39m(\u001b[39m4\u001b[39m):\n\u001b[0;32m     13\u001b[0m \n\u001b[0;32m     14\u001b[0m     \u001b[39m# Fix the ith character at index and if this is not\u001b[39;00m\n\u001b[0;32m     15\u001b[0m     \u001b[39m# the last index then recursively call for higher\u001b[39;00m\n\u001b[0;32m     16\u001b[0m     \u001b[39m# indexes\u001b[39;00m\n\u001b[1;32m---> 17\u001b[0m     data[index] \u001b[39m=\u001b[39m string[i]\n\u001b[0;32m     19\u001b[0m     \u001b[39m# If this is the last index then print the string\u001b[39;00m\n\u001b[0;32m     20\u001b[0m     \u001b[39m# stored in data[]\u001b[39;00m\n\u001b[0;32m     21\u001b[0m     \u001b[39mif\u001b[39;00m index\u001b[39m==\u001b[39mlast:\n",
      "\u001b[1;31mIndexError\u001b[0m: list index out of range"
     ]
    }
   ],
   "source": [
    "def toString(List):\n",
    "    return ''.join(List)\n",
    " \n",
    "# The main function that recursively prints all repeated\n",
    "# permutations of the given string. It uses data[] to store\n",
    "# all permutations one by one\n",
    "def allLexicographicRecur (string, data, last, index):\n",
    "    length = len(string)\n",
    " \n",
    "    # One by one fix all characters at the given index and\n",
    "    # recur for the subsequent indexes\n",
    "    for i in range(4):\n",
    " \n",
    "        # Fix the ith character at index and if this is not\n",
    "        # the last index then recursively call for higher\n",
    "        # indexes\n",
    "        data[index] = string[i]\n",
    " \n",
    "        # If this is the last index then print the string\n",
    "        # stored in data[]\n",
    "        if index==last:\n",
    "            print (toString(data))\n",
    "        else:\n",
    "            allLexicographicRecur(string, data, last, index+1)\n",
    " \n",
    "# This function sorts input string, allocate memory for data\n",
    "# (needed for allLexicographicRecur()) and calls\n",
    "# allLexicographicRecur() for printing all permutations\n",
    "def allLexicographic(string):\n",
    "    length = len(string)\n",
    " \n",
    "    # Create a temp array that will be used by\n",
    "    # allLexicographicRecur()\n",
    "    data = [\"\"] * (length+1)\n",
    "    print(data)\n",
    " \n",
    "    # Sort the input string so that we get all output strings in\n",
    "    # lexicographically sorted order\n",
    "    string = sorted(string)\n",
    " \n",
    "    # Now print all permutations\n",
    "    allLexicographicRecur(string, data, length-1, 0)\n",
    " \n",
    "# Driver program to test the above functions\n",
    "string = \"ABC\"\n",
    "print (\"All permutations with repetition of \" + string + \" are:\")\n",
    "allLexicographic(string)\n",
    " \n",
    "# This code is contributed to Bhavya Jain"
   ]
  },
  {
   "cell_type": "code",
   "execution_count": null,
   "metadata": {},
   "outputs": [],
   "source": []
  }
 ],
 "metadata": {
  "interpreter": {
   "hash": "63fd5069d213b44bf678585dea6b12cceca9941eaf7f819626cde1f2670de90d"
  },
  "kernelspec": {
   "display_name": "Python 3.9.5 64-bit",
   "language": "python",
   "name": "python3"
  },
  "language_info": {
   "codemirror_mode": {
    "name": "ipython",
    "version": 3
   },
   "file_extension": ".py",
   "mimetype": "text/x-python",
   "name": "python",
   "nbconvert_exporter": "python",
   "pygments_lexer": "ipython3",
   "version": "3.9.5"
  },
  "orig_nbformat": 4
 },
 "nbformat": 4,
 "nbformat_minor": 2
}
