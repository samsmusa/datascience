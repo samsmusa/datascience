{
 "cells": [
  {
   "cell_type": "markdown",
   "metadata": {},
   "source": [
    "# Probability distribution"
   ]
  },
  {
   "cell_type": "markdown",
   "metadata": {},
   "source": [
    "## Binomial Distribution\n",
    "\n",
    "### [Mean of Binomial Distribution](https://sciencing.com/law-probability-8657085.html)\n",
    "Suppose you have three green marbles and one red marble in a bowl. In your experiment, you select a marble and record \"success\" if it's red or \"failure\" if it's green, and then you put the marble back and select again. The probability of success - - selecting a red marble -- is one out of four, or 1/4, which is 0.25. If you conduct the experiment 100 times, you would expect to draw a red marble one quarter of the time, or 25 times in total. This is the mean of the binomial distribution, which is defined as the number of trials, 100, times the probability of success for each trial, 0.25, or 100 times 0.25, which is equal to 25.\n",
    "\n",
    "### Variance of Binomial Distribution\n",
    "When you select 100 marbles, you won't always choose exactly 25 red marbles; your actual results will vary. If the probability of success, \"p,\" is 1/4, or 0.25, that means the probability of failure is 3/4, or 0.75, which is \"(1 - p).\" The variance is defined as the number of trials times \"p\" times \"(1-p).\" For the marble experiment, the variance is 100 times 0.25 times 0.75, or 18.75.\n",
    "\n",
    "### Understanding Variance\n",
    "Because the variance is in square units, it's not as intuitive as the mean. However, if you take the square root of the variance, called the standard deviation, it tells you by how much you can expect your actual results to vary, on average. The square root of 18.75 is 4.33, which means you can expect the number of red marbles to be between 21 (25 minus 4) and 29 (25 plus 4) for each 100 selections."
   ]
  },
  {
   "cell_type": "markdown",
   "metadata": {},
   "source": [
    "### for example\n",
    "let green mable as 'G' and red marble as 'R'. and probability of getting Red bol is 25%. and we trial this experiment 100 times"
   ]
  },
  {
   "cell_type": "code",
   "execution_count": 1,
   "metadata": {},
   "outputs": [
    {
     "name": "stdout",
     "output_type": "stream",
     "text": [
      "-------------------------------------------------------------\n",
      "In 20 days we get 5.0 days for 25.0% desire output\n",
      "-------------------------------------------------------------\n",
      "your average number of successes is 5.0 in 20 trials if you repeat the trials many times.\n",
      "-------------------------------------------------------------\n"
     ]
    },
    {
     "data": {
      "image/png": "[encoded data removed]",
      "text/plain": [
       "<Figure size 432x288 with 1 Axes>"
      ]
     },
     "metadata": {
      "needs_background": "light"
     },
     "output_type": "display_data"
    }
   ],
   "source": [
    "from binomial import Binomial\n",
    "\n",
    "[a,c,e] = Binomial('RG', checkParam=\"R\",probability=0.25,repeat=20)"
   ]
  },
  {
   "cell_type": "code",
   "execution_count": 18,
   "metadata": {},
   "outputs": [],
   "source": [
    "from scipy.stats import binom\n",
    "import numpy as np\n",
    "from matplotlib import pyplot as plt "
   ]
  },
  {
   "cell_type": "code",
   "execution_count": 5,
   "metadata": {},
   "outputs": [],
   "source": [
    "n, p = 10, 0.4\n",
    "mean, var, skew, kurt = binom.stats(n, p, moments='mvsk')"
   ]
  },
  {
   "cell_type": "markdown",
   "metadata": {},
   "source": [
    "### percent-point-function [ppf](./ppf.ipynb)  "
   ]
  },
  {
   "cell_type": "code",
   "execution_count": 21,
   "metadata": {},
   "outputs": [
    {
     "data": {
      "image/png": "[encoded data removed]",
      "text/plain": [
       "<Figure size 432x288 with 1 Axes>"
      ]
     },
     "metadata": {
      "needs_background": "light"
     },
     "output_type": "display_data"
    }
   ],
   "source": [
    "fig, ax = plt.subplots(1, 1)\n",
    "\n",
    "n, p = 100, 0.25\n",
    "x = np.arange(binom.ppf(0.00001, n, p),\n",
    "              binom.ppf(1, n, p))\n",
    "ax.plot(x, binom.pmf(x, n, p), 'bo', ms=8, label='binom pmf')\n",
    "ax.vlines(x, 0, binom.pmf(x, n, p), colors='b', lw=5, alpha=0.5)\n",
    "rv = binom(n, p)\n",
    "ax.vlines(x, 0, rv.pmf(x), colors='k', linestyles='-', lw=1,\n",
    "        label='frozen pmf')\n",
    "ax.legend(loc='best', frameon=False)\n",
    "plt.show()"
   ]
  },
  {
   "cell_type": "markdown",
   "metadata": {},
   "source": [
    "$F(x) = Pr[X \\le x] = \\alpha$"
   ]
  }
 ],
 "metadata": {
  "interpreter": {
   "hash": "63fd5069d213b44bf678585dea6b12cceca9941eaf7f819626cde1f2670de90d"
  },
  "kernelspec": {
   "display_name": "Python 3.9.5 64-bit",
   "language": "python",
   "name": "python3"
  },
  "language_info": {
   "codemirror_mode": {
    "name": "ipython",
    "version": 3
   },
   "file_extension": ".py",
   "mimetype": "text/x-python",
   "name": "python",
   "nbconvert_exporter": "python",
   "pygments_lexer": "ipython3",
   "version": "3.9.5"
  },
  "orig_nbformat": 4
 },
 "nbformat": 4,
 "nbformat_minor": 2
}
