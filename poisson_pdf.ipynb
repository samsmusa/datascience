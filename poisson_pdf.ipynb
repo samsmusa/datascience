{
 "cells": [
  {
   "cell_type": "code",
   "execution_count": null,
   "metadata": {},
   "outputs": [],
   "source": []
  },
  {
   "cell_type": "markdown",
   "metadata": {},
   "source": [
    "### poisson distribution\n",
    "The poisson distribution deals with the frequency with which an event occurs within a specific interval.\n",
    "\n",
    "instead of the probability of an event, the poisson distribution requires knowing how often it occurs.\n",
    "for a specific period of time or distance.\n",
    "\n",
    "### formula\n",
    "\n",
    "$$P(Y) = \\frac{\\lambda^y. e^{-\\lambda}}{y!}$$\n",
    "\n",
    "expected value is,\n",
    "$$E(y) = \\lambda$$\n",
    "\n",
    "Variance is,\n",
    "$$\\sigma^{2} = \\lambda = \\mu$$\n",
    "#### example\n",
    "A firefly might light up three times in 10 seconds on average, we should use a poisson distribution if we want to determine the likelihood of it lighting up eight(8th) times in 20 seconds."
   ]
  }
 ],
 "metadata": {
  "language_info": {
   "name": "python"
  },
  "orig_nbformat": 4
 },
 "nbformat": 4,
 "nbformat_minor": 2
}
