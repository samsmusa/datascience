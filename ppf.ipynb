{
 "cells": [
  {
   "cell_type": "markdown",
   "metadata": {},
   "source": [
    "_Cumulative Distribution Function_\n",
    "\n",
    "The cumulative distribution function (cdf) is the probability that the variable takes a value less than or equal to x. That is\n",
    "\n",
    "$ F(x) = Pr[X \\le x] = \\alpha $\n",
    "\n",
    "For a continuous distribution, this can be expressed mathematically as\n",
    "\n",
    "$F(x) = \\int_{-\\infty}^{x} {f(\\mu) d\\mu}$\n",
    "\n",
    "For a discrete distribution, the cdf can be expressed as\n",
    "\n",
    "$F(x) = \\sum_{i=0}^{x} {f(i)}$\n",
    "\n",
    "The following is the plot of the normal cumulative distribution function.\n",
    "\n",
    "![plot of normal cumulative distribution function](https://www.itl.nist.gov/div898/handbook/eda/section3/gif/norcdf.gif)\n",
    "\n",
    "The horizontal axis is the allowable domain for the given probability function. Since the vertical axis is a probability, it must fall between zero and one. It increases from zero to one as we go from left to right on the horizontal axis."
   ]
  },
  {
   "cell_type": "code",
   "execution_count": 2,
   "metadata": {},
   "outputs": [],
   "source": [
    "from  matplotlib  import pyplot as plt\n",
    "import numpy as np\n",
    "from scipy.stats import binom"
   ]
  },
  {
   "cell_type": "code",
   "execution_count": 11,
   "metadata": {},
   "outputs": [
    {
     "data": {
      "text/plain": [
       "[<matplotlib.lines.Line2D at 0x25cf91f2190>]"
      ]
     },
     "execution_count": 11,
     "metadata": {},
     "output_type": "execute_result"
    },
    {
     "data": {
      "image/png": "[encoded data removed]",
      "text/plain": [
       "<Figure size 432x288 with 1 Axes>"
      ]
     },
     "metadata": {
      "needs_background": "light"
     },
     "output_type": "display_data"
    }
   ],
   "source": [
    "n, p = 10, 0.5\n",
    "x = np.linspace(0,n,n)\n",
    "y = binom.cdf(x,n,p)\n",
    "plt.plot(x,y)"
   ]
  },
  {
   "cell_type": "markdown",
   "metadata": {},
   "source": [
    "_Percent Point Function_\n",
    "\n",
    "The percent point function (ppf) is the inverse of the cumulative distribution function. For this reason, the percent point function is also commonly referred to as the inverse distribution function. That is, for a distribution function we calculate the probability that the variable is less than or equal to x for a given x. For the percent point function, we start with the probability and compute the corresponding x for the cumulative distribution. Mathematically, this can be expressed as\n",
    "\n",
    "$Pr[X \\le G(\\alpha)] = \\alpha$\n",
    "\n",
    "or alternatively\n",
    "\n",
    "$x = G(\\alpha) = G(F(x))$\n",
    "\n",
    "The following is the plot of the normal percent point function.\n",
    "\n",
    "![plot of the normal percent point function](https://www.itl.nist.gov/div898/handbook/eda/section3/gif/norppf.gif)\n",
    "\n",
    "Since the horizontal axis is a probability, it goes from zero to one. The vertical axis goes from the smallest to the largest value of the cumulative distribution function."
   ]
  },
  {
   "cell_type": "code",
   "execution_count": 7,
   "metadata": {},
   "outputs": [
    {
     "data": {
      "text/plain": [
       "[<matplotlib.lines.Line2D at 0x25cf9121160>]"
      ]
     },
     "execution_count": 7,
     "metadata": {},
     "output_type": "execute_result"
    },
    {
     "data": {
      "image/png": "[encoded data removed]",
      "text/plain": [
       "<Figure size 432x288 with 1 Axes>"
      ]
     },
     "metadata": {
      "needs_background": "light"
     },
     "output_type": "display_data"
    }
   ],
   "source": [
    "\n",
    "x = np.linspace(0,1,n)\n",
    "y = binom.ppf(x,n,p)\n",
    "plt.plot(x,y)"
   ]
  }
 ],
 "metadata": {
  "interpreter": {
   "hash": "cbebd202182a72b16669f60498ebc06ebfeb2ae9f876d6a1edb8a5ebfae665fb"
  },
  "kernelspec": {
   "display_name": "Python 3.9.5 ('env': venv)",
   "language": "python",
   "name": "python3"
  },
  "language_info": {
   "codemirror_mode": {
    "name": "ipython",
    "version": 3
   },
   "file_extension": ".py",
   "mimetype": "text/x-python",
   "name": "python",
   "nbconvert_exporter": "python",
   "pygments_lexer": "ipython3",
   "version": "3.9.5"
  },
  "orig_nbformat": 4
 },
 "nbformat": 4,
 "nbformat_minor": 2
}
